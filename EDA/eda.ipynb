{
 "cells": [
  {
   "cell_type": "code",
   "execution_count": 136,
   "metadata": {},
   "outputs": [],
   "source": [
    "import pandas as pd\n",
    "import plotly.express as px"
   ]
  },
  {
   "cell_type": "code",
   "execution_count": 137,
   "metadata": {},
   "outputs": [],
   "source": [
    "df = pd.read_csv(\"../data/raw/winemag-data_first150k.csv\")"
   ]
  },
  {
   "cell_type": "code",
   "execution_count": 138,
   "metadata": {},
   "outputs": [],
   "source": [
    "wine_df = df.drop(columns=[\"region_2\", \"Unnamed: 0\"])"
   ]
  },
  {
   "cell_type": "code",
   "execution_count": 139,
   "metadata": {},
   "outputs": [],
   "source": [
    "wine_df = wine_df.dropna(subset=['country'])"
   ]
  },
  {
   "cell_type": "code",
   "execution_count": 140,
   "metadata": {},
   "outputs": [],
   "source": [
    "wine_df['country'] = wine_df['country'].replace('US', 'United States')"
   ]
  },
  {
   "cell_type": "code",
   "execution_count": 141,
   "metadata": {},
   "outputs": [
    {
     "name": "stdout",
     "output_type": "stream",
     "text": [
      "<class 'pandas.core.frame.DataFrame'>\n",
      "Int64Index: 150925 entries, 0 to 150929\n",
      "Data columns (total 9 columns):\n",
      " #   Column       Non-Null Count   Dtype  \n",
      "---  ------       --------------   -----  \n",
      " 0   country      150925 non-null  object \n",
      " 1   description  150925 non-null  object \n",
      " 2   designation  105190 non-null  object \n",
      " 3   points       150925 non-null  int64  \n",
      " 4   price        137230 non-null  float64\n",
      " 5   province     150925 non-null  object \n",
      " 6   region_1     125870 non-null  object \n",
      " 7   variety      150925 non-null  object \n",
      " 8   winery       150925 non-null  object \n",
      "dtypes: float64(1), int64(1), object(7)\n",
      "memory usage: 11.5+ MB\n"
     ]
    }
   ],
   "source": [
    "wine_df.info()"
   ]
  },
  {
   "cell_type": "code",
   "execution_count": 142,
   "metadata": {},
   "outputs": [],
   "source": [
    "#wine_df = wine_df.dropna()"
   ]
  },
  {
   "cell_type": "code",
   "execution_count": 143,
   "metadata": {},
   "outputs": [
    {
     "data": {
      "text/html": [
       "<div>\n",
       "<style scoped>\n",
       "    .dataframe tbody tr th:only-of-type {\n",
       "        vertical-align: middle;\n",
       "    }\n",
       "\n",
       "    .dataframe tbody tr th {\n",
       "        vertical-align: top;\n",
       "    }\n",
       "\n",
       "    .dataframe thead th {\n",
       "        text-align: right;\n",
       "    }\n",
       "</style>\n",
       "<table border=\"1\" class=\"dataframe\">\n",
       "  <thead>\n",
       "    <tr style=\"text-align: right;\">\n",
       "      <th></th>\n",
       "      <th>country</th>\n",
       "      <th>description</th>\n",
       "      <th>designation</th>\n",
       "      <th>points</th>\n",
       "      <th>price</th>\n",
       "      <th>province</th>\n",
       "      <th>region_1</th>\n",
       "      <th>variety</th>\n",
       "      <th>winery</th>\n",
       "    </tr>\n",
       "  </thead>\n",
       "  <tbody>\n",
       "    <tr>\n",
       "      <th>0</th>\n",
       "      <td>United States</td>\n",
       "      <td>This tremendous 100% varietal wine hails from ...</td>\n",
       "      <td>Martha's Vineyard</td>\n",
       "      <td>96</td>\n",
       "      <td>235.0</td>\n",
       "      <td>California</td>\n",
       "      <td>Napa Valley</td>\n",
       "      <td>Cabernet Sauvignon</td>\n",
       "      <td>Heitz</td>\n",
       "    </tr>\n",
       "    <tr>\n",
       "      <th>1</th>\n",
       "      <td>Spain</td>\n",
       "      <td>Ripe aromas of fig, blackberry and cassis are ...</td>\n",
       "      <td>Carodorum Selección Especial Reserva</td>\n",
       "      <td>96</td>\n",
       "      <td>110.0</td>\n",
       "      <td>Northern Spain</td>\n",
       "      <td>Toro</td>\n",
       "      <td>Tinta de Toro</td>\n",
       "      <td>Bodega Carmen Rodríguez</td>\n",
       "    </tr>\n",
       "    <tr>\n",
       "      <th>2</th>\n",
       "      <td>United States</td>\n",
       "      <td>Mac Watson honors the memory of a wine once ma...</td>\n",
       "      <td>Special Selected Late Harvest</td>\n",
       "      <td>96</td>\n",
       "      <td>90.0</td>\n",
       "      <td>California</td>\n",
       "      <td>Knights Valley</td>\n",
       "      <td>Sauvignon Blanc</td>\n",
       "      <td>Macauley</td>\n",
       "    </tr>\n",
       "    <tr>\n",
       "      <th>3</th>\n",
       "      <td>United States</td>\n",
       "      <td>This spent 20 months in 30% new French oak, an...</td>\n",
       "      <td>Reserve</td>\n",
       "      <td>96</td>\n",
       "      <td>65.0</td>\n",
       "      <td>Oregon</td>\n",
       "      <td>Willamette Valley</td>\n",
       "      <td>Pinot Noir</td>\n",
       "      <td>Ponzi</td>\n",
       "    </tr>\n",
       "    <tr>\n",
       "      <th>4</th>\n",
       "      <td>France</td>\n",
       "      <td>This is the top wine from La Bégude, named aft...</td>\n",
       "      <td>La Brûlade</td>\n",
       "      <td>95</td>\n",
       "      <td>66.0</td>\n",
       "      <td>Provence</td>\n",
       "      <td>Bandol</td>\n",
       "      <td>Provence red blend</td>\n",
       "      <td>Domaine de la Bégude</td>\n",
       "    </tr>\n",
       "  </tbody>\n",
       "</table>\n",
       "</div>"
      ],
      "text/plain": [
       "         country                                        description  \\\n",
       "0  United States  This tremendous 100% varietal wine hails from ...   \n",
       "1          Spain  Ripe aromas of fig, blackberry and cassis are ...   \n",
       "2  United States  Mac Watson honors the memory of a wine once ma...   \n",
       "3  United States  This spent 20 months in 30% new French oak, an...   \n",
       "4         France  This is the top wine from La Bégude, named aft...   \n",
       "\n",
       "                            designation  points  price        province  \\\n",
       "0                     Martha's Vineyard      96  235.0      California   \n",
       "1  Carodorum Selección Especial Reserva      96  110.0  Northern Spain   \n",
       "2         Special Selected Late Harvest      96   90.0      California   \n",
       "3                               Reserve      96   65.0          Oregon   \n",
       "4                            La Brûlade      95   66.0        Provence   \n",
       "\n",
       "            region_1             variety                   winery  \n",
       "0        Napa Valley  Cabernet Sauvignon                    Heitz  \n",
       "1               Toro       Tinta de Toro  Bodega Carmen Rodríguez  \n",
       "2     Knights Valley     Sauvignon Blanc                 Macauley  \n",
       "3  Willamette Valley          Pinot Noir                    Ponzi  \n",
       "4             Bandol  Provence red blend     Domaine de la Bégude  "
      ]
     },
     "execution_count": 143,
     "metadata": {},
     "output_type": "execute_result"
    }
   ],
   "source": [
    "wine_df.head()"
   ]
  },
  {
   "cell_type": "code",
   "execution_count": 144,
   "metadata": {},
   "outputs": [
    {
     "data": {
      "text/plain": [
       "48"
      ]
     },
     "execution_count": 144,
     "metadata": {},
     "output_type": "execute_result"
    }
   ],
   "source": [
    "wine_df[\"country\"].nunique()"
   ]
  },
  {
   "cell_type": "code",
   "execution_count": 145,
   "metadata": {},
   "outputs": [],
   "source": [
    "\n",
    "gapminder = px.data.gapminder() "
   ]
  },
  {
   "cell_type": "code",
   "execution_count": 146,
   "metadata": {},
   "outputs": [
    {
     "data": {
      "text/html": [
       "<div>\n",
       "<style scoped>\n",
       "    .dataframe tbody tr th:only-of-type {\n",
       "        vertical-align: middle;\n",
       "    }\n",
       "\n",
       "    .dataframe tbody tr th {\n",
       "        vertical-align: top;\n",
       "    }\n",
       "\n",
       "    .dataframe thead th {\n",
       "        text-align: right;\n",
       "    }\n",
       "</style>\n",
       "<table border=\"1\" class=\"dataframe\">\n",
       "  <thead>\n",
       "    <tr style=\"text-align: right;\">\n",
       "      <th></th>\n",
       "      <th>country</th>\n",
       "      <th>continent</th>\n",
       "      <th>year</th>\n",
       "      <th>lifeExp</th>\n",
       "      <th>pop</th>\n",
       "      <th>gdpPercap</th>\n",
       "      <th>iso_alpha</th>\n",
       "      <th>iso_num</th>\n",
       "    </tr>\n",
       "  </thead>\n",
       "  <tbody>\n",
       "    <tr>\n",
       "      <th>0</th>\n",
       "      <td>Afghanistan</td>\n",
       "      <td>Asia</td>\n",
       "      <td>1952</td>\n",
       "      <td>28.801</td>\n",
       "      <td>8425333</td>\n",
       "      <td>779.445314</td>\n",
       "      <td>AFG</td>\n",
       "      <td>4</td>\n",
       "    </tr>\n",
       "    <tr>\n",
       "      <th>1</th>\n",
       "      <td>Afghanistan</td>\n",
       "      <td>Asia</td>\n",
       "      <td>1957</td>\n",
       "      <td>30.332</td>\n",
       "      <td>9240934</td>\n",
       "      <td>820.853030</td>\n",
       "      <td>AFG</td>\n",
       "      <td>4</td>\n",
       "    </tr>\n",
       "    <tr>\n",
       "      <th>2</th>\n",
       "      <td>Afghanistan</td>\n",
       "      <td>Asia</td>\n",
       "      <td>1962</td>\n",
       "      <td>31.997</td>\n",
       "      <td>10267083</td>\n",
       "      <td>853.100710</td>\n",
       "      <td>AFG</td>\n",
       "      <td>4</td>\n",
       "    </tr>\n",
       "    <tr>\n",
       "      <th>3</th>\n",
       "      <td>Afghanistan</td>\n",
       "      <td>Asia</td>\n",
       "      <td>1967</td>\n",
       "      <td>34.020</td>\n",
       "      <td>11537966</td>\n",
       "      <td>836.197138</td>\n",
       "      <td>AFG</td>\n",
       "      <td>4</td>\n",
       "    </tr>\n",
       "    <tr>\n",
       "      <th>4</th>\n",
       "      <td>Afghanistan</td>\n",
       "      <td>Asia</td>\n",
       "      <td>1972</td>\n",
       "      <td>36.088</td>\n",
       "      <td>13079460</td>\n",
       "      <td>739.981106</td>\n",
       "      <td>AFG</td>\n",
       "      <td>4</td>\n",
       "    </tr>\n",
       "  </tbody>\n",
       "</table>\n",
       "</div>"
      ],
      "text/plain": [
       "       country continent  year  lifeExp       pop   gdpPercap iso_alpha  \\\n",
       "0  Afghanistan      Asia  1952   28.801   8425333  779.445314       AFG   \n",
       "1  Afghanistan      Asia  1957   30.332   9240934  820.853030       AFG   \n",
       "2  Afghanistan      Asia  1962   31.997  10267083  853.100710       AFG   \n",
       "3  Afghanistan      Asia  1967   34.020  11537966  836.197138       AFG   \n",
       "4  Afghanistan      Asia  1972   36.088  13079460  739.981106       AFG   \n",
       "\n",
       "   iso_num  \n",
       "0        4  \n",
       "1        4  \n",
       "2        4  \n",
       "3        4  \n",
       "4        4  "
      ]
     },
     "execution_count": 146,
     "metadata": {},
     "output_type": "execute_result"
    }
   ],
   "source": [
    "gapminder.head()"
   ]
  },
  {
   "cell_type": "code",
   "execution_count": 147,
   "metadata": {},
   "outputs": [
    {
     "data": {
      "text/plain": [
       "150925"
      ]
     },
     "execution_count": 147,
     "metadata": {},
     "output_type": "execute_result"
    }
   ],
   "source": [
    "wine_df.shape[0]"
   ]
  },
  {
   "cell_type": "code",
   "execution_count": 148,
   "metadata": {},
   "outputs": [],
   "source": [
    "gapminder_df = gapminder.groupby('country').first().reset_index()"
   ]
  },
  {
   "cell_type": "code",
   "execution_count": 149,
   "metadata": {},
   "outputs": [],
   "source": [
    "final_df = pd.merge(wine_df, gapminder_df, on=\"country\", how=\"inner\")\n"
   ]
  },
  {
   "cell_type": "code",
   "execution_count": 150,
   "metadata": {},
   "outputs": [
    {
     "data": {
      "text/plain": [
       "150725"
      ]
     },
     "execution_count": 150,
     "metadata": {},
     "output_type": "execute_result"
    }
   ],
   "source": [
    "final_df.shape[0]"
   ]
  },
  {
   "cell_type": "code",
   "execution_count": 151,
   "metadata": {},
   "outputs": [],
   "source": [
    "columns_to_select = ['country', 'continent', 'price', 'province', 'region_1', 'variety', 'winery', 'iso_alpha']\n",
    "final_df = final_df[columns_to_select]"
   ]
  },
  {
   "cell_type": "code",
   "execution_count": 152,
   "metadata": {},
   "outputs": [
    {
     "data": {
      "text/html": [
       "<div>\n",
       "<style scoped>\n",
       "    .dataframe tbody tr th:only-of-type {\n",
       "        vertical-align: middle;\n",
       "    }\n",
       "\n",
       "    .dataframe tbody tr th {\n",
       "        vertical-align: top;\n",
       "    }\n",
       "\n",
       "    .dataframe thead th {\n",
       "        text-align: right;\n",
       "    }\n",
       "</style>\n",
       "<table border=\"1\" class=\"dataframe\">\n",
       "  <thead>\n",
       "    <tr style=\"text-align: right;\">\n",
       "      <th></th>\n",
       "      <th>country</th>\n",
       "      <th>continent</th>\n",
       "      <th>price</th>\n",
       "      <th>province</th>\n",
       "      <th>region_1</th>\n",
       "      <th>variety</th>\n",
       "      <th>winery</th>\n",
       "      <th>iso_alpha</th>\n",
       "    </tr>\n",
       "  </thead>\n",
       "  <tbody>\n",
       "    <tr>\n",
       "      <th>0</th>\n",
       "      <td>United States</td>\n",
       "      <td>Americas</td>\n",
       "      <td>235.0</td>\n",
       "      <td>California</td>\n",
       "      <td>Napa Valley</td>\n",
       "      <td>Cabernet Sauvignon</td>\n",
       "      <td>Heitz</td>\n",
       "      <td>USA</td>\n",
       "    </tr>\n",
       "    <tr>\n",
       "      <th>1</th>\n",
       "      <td>United States</td>\n",
       "      <td>Americas</td>\n",
       "      <td>90.0</td>\n",
       "      <td>California</td>\n",
       "      <td>Knights Valley</td>\n",
       "      <td>Sauvignon Blanc</td>\n",
       "      <td>Macauley</td>\n",
       "      <td>USA</td>\n",
       "    </tr>\n",
       "    <tr>\n",
       "      <th>2</th>\n",
       "      <td>United States</td>\n",
       "      <td>Americas</td>\n",
       "      <td>65.0</td>\n",
       "      <td>Oregon</td>\n",
       "      <td>Willamette Valley</td>\n",
       "      <td>Pinot Noir</td>\n",
       "      <td>Ponzi</td>\n",
       "      <td>USA</td>\n",
       "    </tr>\n",
       "    <tr>\n",
       "      <th>3</th>\n",
       "      <td>United States</td>\n",
       "      <td>Americas</td>\n",
       "      <td>65.0</td>\n",
       "      <td>Oregon</td>\n",
       "      <td>Chehalem Mountains</td>\n",
       "      <td>Pinot Noir</td>\n",
       "      <td>Bergström</td>\n",
       "      <td>USA</td>\n",
       "    </tr>\n",
       "    <tr>\n",
       "      <th>4</th>\n",
       "      <td>United States</td>\n",
       "      <td>Americas</td>\n",
       "      <td>60.0</td>\n",
       "      <td>California</td>\n",
       "      <td>Sonoma Coast</td>\n",
       "      <td>Pinot Noir</td>\n",
       "      <td>Blue Farm</td>\n",
       "      <td>USA</td>\n",
       "    </tr>\n",
       "  </tbody>\n",
       "</table>\n",
       "</div>"
      ],
      "text/plain": [
       "         country continent  price    province            region_1  \\\n",
       "0  United States  Americas  235.0  California         Napa Valley   \n",
       "1  United States  Americas   90.0  California      Knights Valley   \n",
       "2  United States  Americas   65.0      Oregon   Willamette Valley   \n",
       "3  United States  Americas   65.0      Oregon  Chehalem Mountains   \n",
       "4  United States  Americas   60.0  California        Sonoma Coast   \n",
       "\n",
       "              variety     winery iso_alpha  \n",
       "0  Cabernet Sauvignon      Heitz       USA  \n",
       "1     Sauvignon Blanc   Macauley       USA  \n",
       "2          Pinot Noir      Ponzi       USA  \n",
       "3          Pinot Noir  Bergström       USA  \n",
       "4          Pinot Noir  Blue Farm       USA  "
      ]
     },
     "execution_count": 152,
     "metadata": {},
     "output_type": "execute_result"
    }
   ],
   "source": [
    "final_df.head()"
   ]
  },
  {
   "cell_type": "code",
   "execution_count": 153,
   "metadata": {},
   "outputs": [
    {
     "data": {
      "text/plain": [
       "0"
      ]
     },
     "execution_count": 153,
     "metadata": {},
     "output_type": "execute_result"
    }
   ],
   "source": [
    "final_df['country'].isna().sum()"
   ]
  },
  {
   "cell_type": "code",
   "execution_count": 154,
   "metadata": {},
   "outputs": [
    {
     "data": {
      "text/html": [
       "<div>\n",
       "<style scoped>\n",
       "    .dataframe tbody tr th:only-of-type {\n",
       "        vertical-align: middle;\n",
       "    }\n",
       "\n",
       "    .dataframe tbody tr th {\n",
       "        vertical-align: top;\n",
       "    }\n",
       "\n",
       "    .dataframe thead th {\n",
       "        text-align: right;\n",
       "    }\n",
       "</style>\n",
       "<table border=\"1\" class=\"dataframe\">\n",
       "  <thead>\n",
       "    <tr style=\"text-align: right;\">\n",
       "      <th></th>\n",
       "      <th>country</th>\n",
       "      <th>continent</th>\n",
       "      <th>price</th>\n",
       "      <th>province</th>\n",
       "      <th>region_1</th>\n",
       "      <th>variety</th>\n",
       "      <th>winery</th>\n",
       "      <th>iso_alpha</th>\n",
       "      <th>Wine_count</th>\n",
       "    </tr>\n",
       "  </thead>\n",
       "  <tbody>\n",
       "    <tr>\n",
       "      <th>0</th>\n",
       "      <td>United States</td>\n",
       "      <td>Americas</td>\n",
       "      <td>235.0</td>\n",
       "      <td>California</td>\n",
       "      <td>Napa Valley</td>\n",
       "      <td>Cabernet Sauvignon</td>\n",
       "      <td>Heitz</td>\n",
       "      <td>USA</td>\n",
       "      <td>62397</td>\n",
       "    </tr>\n",
       "    <tr>\n",
       "      <th>1</th>\n",
       "      <td>United States</td>\n",
       "      <td>Americas</td>\n",
       "      <td>90.0</td>\n",
       "      <td>California</td>\n",
       "      <td>Knights Valley</td>\n",
       "      <td>Sauvignon Blanc</td>\n",
       "      <td>Macauley</td>\n",
       "      <td>USA</td>\n",
       "      <td>62397</td>\n",
       "    </tr>\n",
       "    <tr>\n",
       "      <th>2</th>\n",
       "      <td>United States</td>\n",
       "      <td>Americas</td>\n",
       "      <td>65.0</td>\n",
       "      <td>Oregon</td>\n",
       "      <td>Willamette Valley</td>\n",
       "      <td>Pinot Noir</td>\n",
       "      <td>Ponzi</td>\n",
       "      <td>USA</td>\n",
       "      <td>62397</td>\n",
       "    </tr>\n",
       "    <tr>\n",
       "      <th>3</th>\n",
       "      <td>United States</td>\n",
       "      <td>Americas</td>\n",
       "      <td>65.0</td>\n",
       "      <td>Oregon</td>\n",
       "      <td>Chehalem Mountains</td>\n",
       "      <td>Pinot Noir</td>\n",
       "      <td>Bergström</td>\n",
       "      <td>USA</td>\n",
       "      <td>62397</td>\n",
       "    </tr>\n",
       "    <tr>\n",
       "      <th>4</th>\n",
       "      <td>United States</td>\n",
       "      <td>Americas</td>\n",
       "      <td>60.0</td>\n",
       "      <td>California</td>\n",
       "      <td>Sonoma Coast</td>\n",
       "      <td>Pinot Noir</td>\n",
       "      <td>Blue Farm</td>\n",
       "      <td>USA</td>\n",
       "      <td>62397</td>\n",
       "    </tr>\n",
       "  </tbody>\n",
       "</table>\n",
       "</div>"
      ],
      "text/plain": [
       "         country continent  price    province            region_1  \\\n",
       "0  United States  Americas  235.0  California         Napa Valley   \n",
       "1  United States  Americas   90.0  California      Knights Valley   \n",
       "2  United States  Americas   65.0      Oregon   Willamette Valley   \n",
       "3  United States  Americas   65.0      Oregon  Chehalem Mountains   \n",
       "4  United States  Americas   60.0  California        Sonoma Coast   \n",
       "\n",
       "              variety     winery iso_alpha  Wine_count  \n",
       "0  Cabernet Sauvignon      Heitz       USA       62397  \n",
       "1     Sauvignon Blanc   Macauley       USA       62397  \n",
       "2          Pinot Noir      Ponzi       USA       62397  \n",
       "3          Pinot Noir  Bergström       USA       62397  \n",
       "4          Pinot Noir  Blue Farm       USA       62397  "
      ]
     },
     "execution_count": 154,
     "metadata": {},
     "output_type": "execute_result"
    }
   ],
   "source": [
    "wine_count = final_df['country'].value_counts().reset_index().rename(columns={'index': 'country', 'country': 'Wine_count'})\n",
    "final_df = pd.merge(final_df, wine_count, on='country')\n",
    "final_df.head()\n"
   ]
  },
  {
   "cell_type": "code",
   "execution_count": 155,
   "metadata": {},
   "outputs": [],
   "source": [
    "final_df.to_csv(\"../data/clean/cleaned_wine_data.csv\")"
   ]
  },
  {
   "cell_type": "code",
   "execution_count": 156,
   "metadata": {},
   "outputs": [
    {
     "data": {
      "text/html": [
       "<div>\n",
       "<style scoped>\n",
       "    .dataframe tbody tr th:only-of-type {\n",
       "        vertical-align: middle;\n",
       "    }\n",
       "\n",
       "    .dataframe tbody tr th {\n",
       "        vertical-align: top;\n",
       "    }\n",
       "\n",
       "    .dataframe thead th {\n",
       "        text-align: right;\n",
       "    }\n",
       "</style>\n",
       "<table border=\"1\" class=\"dataframe\">\n",
       "  <thead>\n",
       "    <tr style=\"text-align: right;\">\n",
       "      <th></th>\n",
       "      <th>country</th>\n",
       "      <th>continent</th>\n",
       "      <th>price</th>\n",
       "      <th>province</th>\n",
       "      <th>region_1</th>\n",
       "      <th>variety</th>\n",
       "      <th>winery</th>\n",
       "      <th>iso_alpha</th>\n",
       "      <th>Wine_count</th>\n",
       "    </tr>\n",
       "  </thead>\n",
       "  <tbody>\n",
       "    <tr>\n",
       "      <th>0</th>\n",
       "      <td>Albania</td>\n",
       "      <td>Europe</td>\n",
       "      <td>20.0</td>\n",
       "      <td>Mirditë</td>\n",
       "      <td>None</td>\n",
       "      <td>Kallmet</td>\n",
       "      <td>Arbëri</td>\n",
       "      <td>ALB</td>\n",
       "      <td>2</td>\n",
       "    </tr>\n",
       "    <tr>\n",
       "      <th>1</th>\n",
       "      <td>Argentina</td>\n",
       "      <td>Americas</td>\n",
       "      <td>30.0</td>\n",
       "      <td>Mendoza Province</td>\n",
       "      <td>Mendoza</td>\n",
       "      <td>Malbec</td>\n",
       "      <td>Matias Riccitelli</td>\n",
       "      <td>ARG</td>\n",
       "      <td>5631</td>\n",
       "    </tr>\n",
       "    <tr>\n",
       "      <th>2</th>\n",
       "      <td>Australia</td>\n",
       "      <td>Oceania</td>\n",
       "      <td>36.0</td>\n",
       "      <td>Victoria</td>\n",
       "      <td>Mornington Peninsula</td>\n",
       "      <td>Pinot Noir</td>\n",
       "      <td>Moorooduc</td>\n",
       "      <td>AUS</td>\n",
       "      <td>4957</td>\n",
       "    </tr>\n",
       "    <tr>\n",
       "      <th>3</th>\n",
       "      <td>Austria</td>\n",
       "      <td>Europe</td>\n",
       "      <td>21.0</td>\n",
       "      <td>Thermenregion</td>\n",
       "      <td>None</td>\n",
       "      <td>St. Laurent</td>\n",
       "      <td>Johanneshof Reinisch</td>\n",
       "      <td>AUT</td>\n",
       "      <td>3057</td>\n",
       "    </tr>\n",
       "    <tr>\n",
       "      <th>4</th>\n",
       "      <td>Bosnia and Herzegovina</td>\n",
       "      <td>Europe</td>\n",
       "      <td>12.0</td>\n",
       "      <td>Mostar</td>\n",
       "      <td>None</td>\n",
       "      <td>Blatina</td>\n",
       "      <td>Winery Čitluk</td>\n",
       "      <td>BIH</td>\n",
       "      <td>4</td>\n",
       "    </tr>\n",
       "    <tr>\n",
       "      <th>5</th>\n",
       "      <td>Brazil</td>\n",
       "      <td>Americas</td>\n",
       "      <td>15.0</td>\n",
       "      <td>Serra Gaúcha</td>\n",
       "      <td>None</td>\n",
       "      <td>Merlot</td>\n",
       "      <td>Lidio Carraro</td>\n",
       "      <td>BRA</td>\n",
       "      <td>25</td>\n",
       "    </tr>\n",
       "    <tr>\n",
       "      <th>6</th>\n",
       "      <td>Bulgaria</td>\n",
       "      <td>Europe</td>\n",
       "      <td>15.0</td>\n",
       "      <td>Bulgaria</td>\n",
       "      <td>None</td>\n",
       "      <td>Mavrud</td>\n",
       "      <td>Villa Melnik</td>\n",
       "      <td>BGR</td>\n",
       "      <td>77</td>\n",
       "    </tr>\n",
       "    <tr>\n",
       "      <th>7</th>\n",
       "      <td>Canada</td>\n",
       "      <td>Americas</td>\n",
       "      <td>70.0</td>\n",
       "      <td>British Columbia</td>\n",
       "      <td>Okanagan Valley</td>\n",
       "      <td>Bordeaux-style Red Blend</td>\n",
       "      <td>Mission Hill</td>\n",
       "      <td>CAN</td>\n",
       "      <td>196</td>\n",
       "    </tr>\n",
       "    <tr>\n",
       "      <th>8</th>\n",
       "      <td>Chile</td>\n",
       "      <td>Americas</td>\n",
       "      <td>20.0</td>\n",
       "      <td>Marchigue</td>\n",
       "      <td>None</td>\n",
       "      <td>Carmenère</td>\n",
       "      <td>Viña Bisquertt</td>\n",
       "      <td>CHL</td>\n",
       "      <td>5816</td>\n",
       "    </tr>\n",
       "    <tr>\n",
       "      <th>9</th>\n",
       "      <td>China</td>\n",
       "      <td>Asia</td>\n",
       "      <td>27.0</td>\n",
       "      <td>China</td>\n",
       "      <td>None</td>\n",
       "      <td>Chardonnay</td>\n",
       "      <td>Chateau Changyu-Castel</td>\n",
       "      <td>CHN</td>\n",
       "      <td>3</td>\n",
       "    </tr>\n",
       "    <tr>\n",
       "      <th>10</th>\n",
       "      <td>Croatia</td>\n",
       "      <td>Europe</td>\n",
       "      <td>19.0</td>\n",
       "      <td>North Dalmatia</td>\n",
       "      <td>None</td>\n",
       "      <td>White Blend</td>\n",
       "      <td>Bibich</td>\n",
       "      <td>HRV</td>\n",
       "      <td>89</td>\n",
       "    </tr>\n",
       "    <tr>\n",
       "      <th>11</th>\n",
       "      <td>Czech Republic</td>\n",
       "      <td>Europe</td>\n",
       "      <td>15.0</td>\n",
       "      <td>Moravia</td>\n",
       "      <td>None</td>\n",
       "      <td>Rivaner</td>\n",
       "      <td>Vino z Czech</td>\n",
       "      <td>CZE</td>\n",
       "      <td>6</td>\n",
       "    </tr>\n",
       "    <tr>\n",
       "      <th>12</th>\n",
       "      <td>Egypt</td>\n",
       "      <td>Africa</td>\n",
       "      <td>NaN</td>\n",
       "      <td>Egypt</td>\n",
       "      <td>None</td>\n",
       "      <td>Grenache</td>\n",
       "      <td>Sahara Vineyards</td>\n",
       "      <td>EGY</td>\n",
       "      <td>3</td>\n",
       "    </tr>\n",
       "    <tr>\n",
       "      <th>13</th>\n",
       "      <td>France</td>\n",
       "      <td>Europe</td>\n",
       "      <td>66.0</td>\n",
       "      <td>Provence</td>\n",
       "      <td>Bandol</td>\n",
       "      <td>Provence red blend</td>\n",
       "      <td>Domaine de la Bégude</td>\n",
       "      <td>FRA</td>\n",
       "      <td>21098</td>\n",
       "    </tr>\n",
       "    <tr>\n",
       "      <th>14</th>\n",
       "      <td>Germany</td>\n",
       "      <td>Europe</td>\n",
       "      <td>23.0</td>\n",
       "      <td>Mosel</td>\n",
       "      <td>None</td>\n",
       "      <td>Riesling</td>\n",
       "      <td>Friedrich-Wilhelm-Gymnasium</td>\n",
       "      <td>DEU</td>\n",
       "      <td>2452</td>\n",
       "    </tr>\n",
       "    <tr>\n",
       "      <th>15</th>\n",
       "      <td>Greece</td>\n",
       "      <td>Europe</td>\n",
       "      <td>24.0</td>\n",
       "      <td>Atalanti Valley</td>\n",
       "      <td>None</td>\n",
       "      <td>White Blend</td>\n",
       "      <td>Hatzimichalis</td>\n",
       "      <td>GRC</td>\n",
       "      <td>884</td>\n",
       "    </tr>\n",
       "    <tr>\n",
       "      <th>16</th>\n",
       "      <td>Hungary</td>\n",
       "      <td>Europe</td>\n",
       "      <td>35.0</td>\n",
       "      <td>Sopron</td>\n",
       "      <td>None</td>\n",
       "      <td>Kekfrankos</td>\n",
       "      <td>Weninger</td>\n",
       "      <td>HUN</td>\n",
       "      <td>231</td>\n",
       "    </tr>\n",
       "    <tr>\n",
       "      <th>17</th>\n",
       "      <td>India</td>\n",
       "      <td>Asia</td>\n",
       "      <td>13.0</td>\n",
       "      <td>Nashik</td>\n",
       "      <td>None</td>\n",
       "      <td>Shiraz</td>\n",
       "      <td>Sula</td>\n",
       "      <td>IND</td>\n",
       "      <td>8</td>\n",
       "    </tr>\n",
       "    <tr>\n",
       "      <th>18</th>\n",
       "      <td>Israel</td>\n",
       "      <td>Asia</td>\n",
       "      <td>25.0</td>\n",
       "      <td>Upper Galilee</td>\n",
       "      <td>None</td>\n",
       "      <td>Cabernet Sauvignon</td>\n",
       "      <td>Binyamina</td>\n",
       "      <td>ISR</td>\n",
       "      <td>630</td>\n",
       "    </tr>\n",
       "    <tr>\n",
       "      <th>19</th>\n",
       "      <td>Italy</td>\n",
       "      <td>Europe</td>\n",
       "      <td>80.0</td>\n",
       "      <td>Northeastern Italy</td>\n",
       "      <td>Collio</td>\n",
       "      <td>Friulano</td>\n",
       "      <td>Borgo del Tiglio</td>\n",
       "      <td>ITA</td>\n",
       "      <td>23478</td>\n",
       "    </tr>\n",
       "    <tr>\n",
       "      <th>20</th>\n",
       "      <td>Japan</td>\n",
       "      <td>Asia</td>\n",
       "      <td>24.0</td>\n",
       "      <td>Kyoto</td>\n",
       "      <td>None</td>\n",
       "      <td>Koshu</td>\n",
       "      <td>Croix Toriino</td>\n",
       "      <td>JPN</td>\n",
       "      <td>2</td>\n",
       "    </tr>\n",
       "    <tr>\n",
       "      <th>21</th>\n",
       "      <td>Lebanon</td>\n",
       "      <td>Asia</td>\n",
       "      <td>20.0</td>\n",
       "      <td>Lebanon</td>\n",
       "      <td>None</td>\n",
       "      <td>Red Blend</td>\n",
       "      <td>Ixsir</td>\n",
       "      <td>LBN</td>\n",
       "      <td>37</td>\n",
       "    </tr>\n",
       "    <tr>\n",
       "      <th>22</th>\n",
       "      <td>Mexico</td>\n",
       "      <td>Americas</td>\n",
       "      <td>40.0</td>\n",
       "      <td>Valle de Guadalupe</td>\n",
       "      <td>None</td>\n",
       "      <td>Cabernet Sauvignon</td>\n",
       "      <td>Vinos Magbel</td>\n",
       "      <td>MEX</td>\n",
       "      <td>63</td>\n",
       "    </tr>\n",
       "    <tr>\n",
       "      <th>23</th>\n",
       "      <td>Montenegro</td>\n",
       "      <td>Europe</td>\n",
       "      <td>10.0</td>\n",
       "      <td>Lake Skadar Valley</td>\n",
       "      <td>None</td>\n",
       "      <td>Vranec</td>\n",
       "      <td>Monte Cheval</td>\n",
       "      <td>MNE</td>\n",
       "      <td>2</td>\n",
       "    </tr>\n",
       "    <tr>\n",
       "      <th>24</th>\n",
       "      <td>Morocco</td>\n",
       "      <td>Africa</td>\n",
       "      <td>35.0</td>\n",
       "      <td>Guerrouane</td>\n",
       "      <td>None</td>\n",
       "      <td>Syrah-Grenache</td>\n",
       "      <td>Bernard Magrez</td>\n",
       "      <td>MAR</td>\n",
       "      <td>12</td>\n",
       "    </tr>\n",
       "    <tr>\n",
       "      <th>25</th>\n",
       "      <td>New Zealand</td>\n",
       "      <td>Oceania</td>\n",
       "      <td>57.0</td>\n",
       "      <td>Kumeu</td>\n",
       "      <td>None</td>\n",
       "      <td>Chardonnay</td>\n",
       "      <td>Kumeu River</td>\n",
       "      <td>NZL</td>\n",
       "      <td>3320</td>\n",
       "    </tr>\n",
       "    <tr>\n",
       "      <th>26</th>\n",
       "      <td>Portugal</td>\n",
       "      <td>Europe</td>\n",
       "      <td>23.0</td>\n",
       "      <td>Alentejano</td>\n",
       "      <td>None</td>\n",
       "      <td>Portuguese Red</td>\n",
       "      <td>Herdade do Rocim</td>\n",
       "      <td>PRT</td>\n",
       "      <td>5322</td>\n",
       "    </tr>\n",
       "    <tr>\n",
       "      <th>27</th>\n",
       "      <td>Romania</td>\n",
       "      <td>Europe</td>\n",
       "      <td>9.0</td>\n",
       "      <td>Colinele Dobrogei</td>\n",
       "      <td>None</td>\n",
       "      <td>Rosé</td>\n",
       "      <td>Cramele Halewood</td>\n",
       "      <td>ROU</td>\n",
       "      <td>139</td>\n",
       "    </tr>\n",
       "    <tr>\n",
       "      <th>28</th>\n",
       "      <td>Serbia</td>\n",
       "      <td>Europe</td>\n",
       "      <td>26.0</td>\n",
       "      <td>Pocerina</td>\n",
       "      <td>None</td>\n",
       "      <td>Morava</td>\n",
       "      <td>Milijan Jelić</td>\n",
       "      <td>SRB</td>\n",
       "      <td>14</td>\n",
       "    </tr>\n",
       "    <tr>\n",
       "      <th>29</th>\n",
       "      <td>Slovenia</td>\n",
       "      <td>Europe</td>\n",
       "      <td>40.0</td>\n",
       "      <td>Goriska Brda</td>\n",
       "      <td>None</td>\n",
       "      <td>Ribolla Gialla</td>\n",
       "      <td>Principiano Ferdinando</td>\n",
       "      <td>SVN</td>\n",
       "      <td>94</td>\n",
       "    </tr>\n",
       "    <tr>\n",
       "      <th>30</th>\n",
       "      <td>South Africa</td>\n",
       "      <td>Africa</td>\n",
       "      <td>20.0</td>\n",
       "      <td>Stellenbosch</td>\n",
       "      <td>None</td>\n",
       "      <td>Sauvignon Blanc</td>\n",
       "      <td>Waterkloof</td>\n",
       "      <td>ZAF</td>\n",
       "      <td>2258</td>\n",
       "    </tr>\n",
       "    <tr>\n",
       "      <th>31</th>\n",
       "      <td>Spain</td>\n",
       "      <td>Europe</td>\n",
       "      <td>110.0</td>\n",
       "      <td>Northern Spain</td>\n",
       "      <td>Toro</td>\n",
       "      <td>Tinta de Toro</td>\n",
       "      <td>Bodega Carmen Rodríguez</td>\n",
       "      <td>ESP</td>\n",
       "      <td>8268</td>\n",
       "    </tr>\n",
       "    <tr>\n",
       "      <th>32</th>\n",
       "      <td>Switzerland</td>\n",
       "      <td>Europe</td>\n",
       "      <td>28.0</td>\n",
       "      <td>Valais</td>\n",
       "      <td>None</td>\n",
       "      <td>Chasselas</td>\n",
       "      <td>Robert Gilliard</td>\n",
       "      <td>CHE</td>\n",
       "      <td>4</td>\n",
       "    </tr>\n",
       "    <tr>\n",
       "      <th>33</th>\n",
       "      <td>Tunisia</td>\n",
       "      <td>Africa</td>\n",
       "      <td>NaN</td>\n",
       "      <td>Tunisia</td>\n",
       "      <td>None</td>\n",
       "      <td>Rosé</td>\n",
       "      <td>Domaine Neferis</td>\n",
       "      <td>TUN</td>\n",
       "      <td>2</td>\n",
       "    </tr>\n",
       "    <tr>\n",
       "      <th>34</th>\n",
       "      <td>Turkey</td>\n",
       "      <td>Europe</td>\n",
       "      <td>15.0</td>\n",
       "      <td>Ankara</td>\n",
       "      <td>None</td>\n",
       "      <td>Kalecik Karasi</td>\n",
       "      <td>Vinkara</td>\n",
       "      <td>TUR</td>\n",
       "      <td>52</td>\n",
       "    </tr>\n",
       "    <tr>\n",
       "      <th>35</th>\n",
       "      <td>United States</td>\n",
       "      <td>Americas</td>\n",
       "      <td>235.0</td>\n",
       "      <td>California</td>\n",
       "      <td>Napa Valley</td>\n",
       "      <td>Cabernet Sauvignon</td>\n",
       "      <td>Heitz</td>\n",
       "      <td>USA</td>\n",
       "      <td>62397</td>\n",
       "    </tr>\n",
       "    <tr>\n",
       "      <th>36</th>\n",
       "      <td>Uruguay</td>\n",
       "      <td>Americas</td>\n",
       "      <td>45.0</td>\n",
       "      <td>Juanico</td>\n",
       "      <td>None</td>\n",
       "      <td>Red Blend</td>\n",
       "      <td>Familia Deicas</td>\n",
       "      <td>URY</td>\n",
       "      <td>92</td>\n",
       "    </tr>\n",
       "  </tbody>\n",
       "</table>\n",
       "</div>"
      ],
      "text/plain": [
       "                   country continent  price            province  \\\n",
       "0                  Albania    Europe   20.0             Mirditë   \n",
       "1                Argentina  Americas   30.0    Mendoza Province   \n",
       "2                Australia   Oceania   36.0            Victoria   \n",
       "3                  Austria    Europe   21.0       Thermenregion   \n",
       "4   Bosnia and Herzegovina    Europe   12.0              Mostar   \n",
       "5                   Brazil  Americas   15.0        Serra Gaúcha   \n",
       "6                 Bulgaria    Europe   15.0            Bulgaria   \n",
       "7                   Canada  Americas   70.0    British Columbia   \n",
       "8                    Chile  Americas   20.0           Marchigue   \n",
       "9                    China      Asia   27.0               China   \n",
       "10                 Croatia    Europe   19.0      North Dalmatia   \n",
       "11          Czech Republic    Europe   15.0             Moravia   \n",
       "12                   Egypt    Africa    NaN               Egypt   \n",
       "13                  France    Europe   66.0            Provence   \n",
       "14                 Germany    Europe   23.0               Mosel   \n",
       "15                  Greece    Europe   24.0     Atalanti Valley   \n",
       "16                 Hungary    Europe   35.0              Sopron   \n",
       "17                   India      Asia   13.0              Nashik   \n",
       "18                  Israel      Asia   25.0       Upper Galilee   \n",
       "19                   Italy    Europe   80.0  Northeastern Italy   \n",
       "20                   Japan      Asia   24.0               Kyoto   \n",
       "21                 Lebanon      Asia   20.0             Lebanon   \n",
       "22                  Mexico  Americas   40.0  Valle de Guadalupe   \n",
       "23              Montenegro    Europe   10.0  Lake Skadar Valley   \n",
       "24                 Morocco    Africa   35.0          Guerrouane   \n",
       "25             New Zealand   Oceania   57.0               Kumeu   \n",
       "26                Portugal    Europe   23.0          Alentejano   \n",
       "27                 Romania    Europe    9.0   Colinele Dobrogei   \n",
       "28                  Serbia    Europe   26.0            Pocerina   \n",
       "29                Slovenia    Europe   40.0        Goriska Brda   \n",
       "30            South Africa    Africa   20.0        Stellenbosch   \n",
       "31                   Spain    Europe  110.0      Northern Spain   \n",
       "32             Switzerland    Europe   28.0              Valais   \n",
       "33                 Tunisia    Africa    NaN             Tunisia   \n",
       "34                  Turkey    Europe   15.0              Ankara   \n",
       "35           United States  Americas  235.0          California   \n",
       "36                 Uruguay  Americas   45.0             Juanico   \n",
       "\n",
       "                region_1                   variety  \\\n",
       "0                   None                   Kallmet   \n",
       "1                Mendoza                    Malbec   \n",
       "2   Mornington Peninsula                Pinot Noir   \n",
       "3                   None               St. Laurent   \n",
       "4                   None                   Blatina   \n",
       "5                   None                    Merlot   \n",
       "6                   None                    Mavrud   \n",
       "7        Okanagan Valley  Bordeaux-style Red Blend   \n",
       "8                   None                 Carmenère   \n",
       "9                   None                Chardonnay   \n",
       "10                  None               White Blend   \n",
       "11                  None                   Rivaner   \n",
       "12                  None                  Grenache   \n",
       "13                Bandol        Provence red blend   \n",
       "14                  None                  Riesling   \n",
       "15                  None               White Blend   \n",
       "16                  None                Kekfrankos   \n",
       "17                  None                    Shiraz   \n",
       "18                  None        Cabernet Sauvignon   \n",
       "19                Collio                  Friulano   \n",
       "20                  None                     Koshu   \n",
       "21                  None                 Red Blend   \n",
       "22                  None        Cabernet Sauvignon   \n",
       "23                  None                    Vranec   \n",
       "24                  None            Syrah-Grenache   \n",
       "25                  None                Chardonnay   \n",
       "26                  None            Portuguese Red   \n",
       "27                  None                      Rosé   \n",
       "28                  None                    Morava   \n",
       "29                  None            Ribolla Gialla   \n",
       "30                  None           Sauvignon Blanc   \n",
       "31                  Toro             Tinta de Toro   \n",
       "32                  None                 Chasselas   \n",
       "33                  None                      Rosé   \n",
       "34                  None            Kalecik Karasi   \n",
       "35           Napa Valley        Cabernet Sauvignon   \n",
       "36                  None                 Red Blend   \n",
       "\n",
       "                         winery iso_alpha  Wine_count  \n",
       "0                        Arbëri       ALB           2  \n",
       "1             Matias Riccitelli       ARG        5631  \n",
       "2                     Moorooduc       AUS        4957  \n",
       "3          Johanneshof Reinisch       AUT        3057  \n",
       "4                 Winery Čitluk       BIH           4  \n",
       "5                 Lidio Carraro       BRA          25  \n",
       "6                  Villa Melnik       BGR          77  \n",
       "7                  Mission Hill       CAN         196  \n",
       "8                Viña Bisquertt       CHL        5816  \n",
       "9        Chateau Changyu-Castel       CHN           3  \n",
       "10                       Bibich       HRV          89  \n",
       "11                 Vino z Czech       CZE           6  \n",
       "12             Sahara Vineyards       EGY           3  \n",
       "13         Domaine de la Bégude       FRA       21098  \n",
       "14  Friedrich-Wilhelm-Gymnasium       DEU        2452  \n",
       "15                Hatzimichalis       GRC         884  \n",
       "16                     Weninger       HUN         231  \n",
       "17                         Sula       IND           8  \n",
       "18                    Binyamina       ISR         630  \n",
       "19             Borgo del Tiglio       ITA       23478  \n",
       "20                Croix Toriino       JPN           2  \n",
       "21                        Ixsir       LBN          37  \n",
       "22                 Vinos Magbel       MEX          63  \n",
       "23                 Monte Cheval       MNE           2  \n",
       "24               Bernard Magrez       MAR          12  \n",
       "25                  Kumeu River       NZL        3320  \n",
       "26             Herdade do Rocim       PRT        5322  \n",
       "27             Cramele Halewood       ROU         139  \n",
       "28                Milijan Jelić       SRB          14  \n",
       "29       Principiano Ferdinando       SVN          94  \n",
       "30                   Waterkloof       ZAF        2258  \n",
       "31      Bodega Carmen Rodríguez       ESP        8268  \n",
       "32              Robert Gilliard       CHE           4  \n",
       "33              Domaine Neferis       TUN           2  \n",
       "34                      Vinkara       TUR          52  \n",
       "35                        Heitz       USA       62397  \n",
       "36               Familia Deicas       URY          92  "
      ]
     },
     "execution_count": 156,
     "metadata": {},
     "output_type": "execute_result"
    }
   ],
   "source": [
    "test_df = final_df.groupby('country').first().reset_index()\n",
    "test_df"
   ]
  },
  {
   "cell_type": "code",
   "execution_count": 157,
   "metadata": {},
   "outputs": [
    {
     "data": {
      "application/vnd.plotly.v1+json": {
       "config": {
        "plotlyServerURL": "https://plot.ly"
       },
       "data": [
        {
         "geo": "geo",
         "hovertemplate": "<b>%{hovertext}</b><br><br>continent=Europe<br>Wine_count=%{marker.size}<br>iso_alpha=%{location}<extra></extra>",
         "hovertext": [
          "Albania",
          "Austria",
          "Bosnia and Herzegovina",
          "Bulgaria",
          "Croatia",
          "Czech Republic",
          "France",
          "Germany",
          "Greece",
          "Hungary",
          "Italy",
          "Montenegro",
          "Portugal",
          "Romania",
          "Serbia",
          "Slovenia",
          "Spain",
          "Switzerland",
          "Turkey"
         ],
         "legendgroup": "Europe",
         "locations": [
          "ALB",
          "AUT",
          "BIH",
          "BGR",
          "HRV",
          "CZE",
          "FRA",
          "DEU",
          "GRC",
          "HUN",
          "ITA",
          "MNE",
          "PRT",
          "ROU",
          "SRB",
          "SVN",
          "ESP",
          "CHE",
          "TUR"
         ],
         "marker": {
          "color": "#636efa",
          "size": [
           2,
           3057,
           4,
           77,
           89,
           6,
           21098,
           2452,
           884,
           231,
           23478,
           2,
           5322,
           139,
           14,
           94,
           8268,
           4,
           52
          ],
          "sizemode": "area",
          "sizeref": 155.9925,
          "symbol": "circle"
         },
         "mode": "markers",
         "name": "Europe",
         "showlegend": true,
         "type": "scattergeo"
        },
        {
         "geo": "geo",
         "hovertemplate": "<b>%{hovertext}</b><br><br>continent=Americas<br>Wine_count=%{marker.size}<br>iso_alpha=%{location}<extra></extra>",
         "hovertext": [
          "Argentina",
          "Brazil",
          "Canada",
          "Chile",
          "Mexico",
          "United States",
          "Uruguay"
         ],
         "legendgroup": "Americas",
         "locations": [
          "ARG",
          "BRA",
          "CAN",
          "CHL",
          "MEX",
          "USA",
          "URY"
         ],
         "marker": {
          "color": "#EF553B",
          "size": [
           5631,
           25,
           196,
           5816,
           63,
           62397,
           92
          ],
          "sizemode": "area",
          "sizeref": 155.9925,
          "symbol": "circle"
         },
         "mode": "markers",
         "name": "Americas",
         "showlegend": true,
         "type": "scattergeo"
        },
        {
         "geo": "geo",
         "hovertemplate": "<b>%{hovertext}</b><br><br>continent=Oceania<br>Wine_count=%{marker.size}<br>iso_alpha=%{location}<extra></extra>",
         "hovertext": [
          "Australia",
          "New Zealand"
         ],
         "legendgroup": "Oceania",
         "locations": [
          "AUS",
          "NZL"
         ],
         "marker": {
          "color": "#00cc96",
          "size": [
           4957,
           3320
          ],
          "sizemode": "area",
          "sizeref": 155.9925,
          "symbol": "circle"
         },
         "mode": "markers",
         "name": "Oceania",
         "showlegend": true,
         "type": "scattergeo"
        },
        {
         "geo": "geo",
         "hovertemplate": "<b>%{hovertext}</b><br><br>continent=Asia<br>Wine_count=%{marker.size}<br>iso_alpha=%{location}<extra></extra>",
         "hovertext": [
          "China",
          "India",
          "Israel",
          "Japan",
          "Lebanon"
         ],
         "legendgroup": "Asia",
         "locations": [
          "CHN",
          "IND",
          "ISR",
          "JPN",
          "LBN"
         ],
         "marker": {
          "color": "#ab63fa",
          "size": [
           3,
           8,
           630,
           2,
           37
          ],
          "sizemode": "area",
          "sizeref": 155.9925,
          "symbol": "circle"
         },
         "mode": "markers",
         "name": "Asia",
         "showlegend": true,
         "type": "scattergeo"
        },
        {
         "geo": "geo",
         "hovertemplate": "<b>%{hovertext}</b><br><br>continent=Africa<br>Wine_count=%{marker.size}<br>iso_alpha=%{location}<extra></extra>",
         "hovertext": [
          "Egypt",
          "Morocco",
          "South Africa",
          "Tunisia"
         ],
         "legendgroup": "Africa",
         "locations": [
          "EGY",
          "MAR",
          "ZAF",
          "TUN"
         ],
         "marker": {
          "color": "#FFA15A",
          "size": [
           3,
           12,
           2258,
           2
          ],
          "sizemode": "area",
          "sizeref": 155.9925,
          "symbol": "circle"
         },
         "mode": "markers",
         "name": "Africa",
         "showlegend": true,
         "type": "scattergeo"
        }
       ],
       "layout": {
        "geo": {
         "center": {},
         "domain": {
          "x": [
           0,
           1
          ],
          "y": [
           0,
           1
          ]
         },
         "projection": {
          "type": "natural earth"
         }
        },
        "legend": {
         "itemsizing": "constant",
         "title": {
          "text": "continent"
         },
         "tracegroupgap": 0
        },
        "margin": {
         "t": 60
        },
        "template": {
         "data": {
          "bar": [
           {
            "error_x": {
             "color": "#2a3f5f"
            },
            "error_y": {
             "color": "#2a3f5f"
            },
            "marker": {
             "line": {
              "color": "#E5ECF6",
              "width": 0.5
             },
             "pattern": {
              "fillmode": "overlay",
              "size": 10,
              "solidity": 0.2
             }
            },
            "type": "bar"
           }
          ],
          "barpolar": [
           {
            "marker": {
             "line": {
              "color": "#E5ECF6",
              "width": 0.5
             },
             "pattern": {
              "fillmode": "overlay",
              "size": 10,
              "solidity": 0.2
             }
            },
            "type": "barpolar"
           }
          ],
          "carpet": [
           {
            "aaxis": {
             "endlinecolor": "#2a3f5f",
             "gridcolor": "white",
             "linecolor": "white",
             "minorgridcolor": "white",
             "startlinecolor": "#2a3f5f"
            },
            "baxis": {
             "endlinecolor": "#2a3f5f",
             "gridcolor": "white",
             "linecolor": "white",
             "minorgridcolor": "white",
             "startlinecolor": "#2a3f5f"
            },
            "type": "carpet"
           }
          ],
          "choropleth": [
           {
            "colorbar": {
             "outlinewidth": 0,
             "ticks": ""
            },
            "type": "choropleth"
           }
          ],
          "contour": [
           {
            "colorbar": {
             "outlinewidth": 0,
             "ticks": ""
            },
            "colorscale": [
             [
              0,
              "#0d0887"
             ],
             [
              0.1111111111111111,
              "#46039f"
             ],
             [
              0.2222222222222222,
              "#7201a8"
             ],
             [
              0.3333333333333333,
              "#9c179e"
             ],
             [
              0.4444444444444444,
              "#bd3786"
             ],
             [
              0.5555555555555556,
              "#d8576b"
             ],
             [
              0.6666666666666666,
              "#ed7953"
             ],
             [
              0.7777777777777778,
              "#fb9f3a"
             ],
             [
              0.8888888888888888,
              "#fdca26"
             ],
             [
              1,
              "#f0f921"
             ]
            ],
            "type": "contour"
           }
          ],
          "contourcarpet": [
           {
            "colorbar": {
             "outlinewidth": 0,
             "ticks": ""
            },
            "type": "contourcarpet"
           }
          ],
          "heatmap": [
           {
            "colorbar": {
             "outlinewidth": 0,
             "ticks": ""
            },
            "colorscale": [
             [
              0,
              "#0d0887"
             ],
             [
              0.1111111111111111,
              "#46039f"
             ],
             [
              0.2222222222222222,
              "#7201a8"
             ],
             [
              0.3333333333333333,
              "#9c179e"
             ],
             [
              0.4444444444444444,
              "#bd3786"
             ],
             [
              0.5555555555555556,
              "#d8576b"
             ],
             [
              0.6666666666666666,
              "#ed7953"
             ],
             [
              0.7777777777777778,
              "#fb9f3a"
             ],
             [
              0.8888888888888888,
              "#fdca26"
             ],
             [
              1,
              "#f0f921"
             ]
            ],
            "type": "heatmap"
           }
          ],
          "heatmapgl": [
           {
            "colorbar": {
             "outlinewidth": 0,
             "ticks": ""
            },
            "colorscale": [
             [
              0,
              "#0d0887"
             ],
             [
              0.1111111111111111,
              "#46039f"
             ],
             [
              0.2222222222222222,
              "#7201a8"
             ],
             [
              0.3333333333333333,
              "#9c179e"
             ],
             [
              0.4444444444444444,
              "#bd3786"
             ],
             [
              0.5555555555555556,
              "#d8576b"
             ],
             [
              0.6666666666666666,
              "#ed7953"
             ],
             [
              0.7777777777777778,
              "#fb9f3a"
             ],
             [
              0.8888888888888888,
              "#fdca26"
             ],
             [
              1,
              "#f0f921"
             ]
            ],
            "type": "heatmapgl"
           }
          ],
          "histogram": [
           {
            "marker": {
             "pattern": {
              "fillmode": "overlay",
              "size": 10,
              "solidity": 0.2
             }
            },
            "type": "histogram"
           }
          ],
          "histogram2d": [
           {
            "colorbar": {
             "outlinewidth": 0,
             "ticks": ""
            },
            "colorscale": [
             [
              0,
              "#0d0887"
             ],
             [
              0.1111111111111111,
              "#46039f"
             ],
             [
              0.2222222222222222,
              "#7201a8"
             ],
             [
              0.3333333333333333,
              "#9c179e"
             ],
             [
              0.4444444444444444,
              "#bd3786"
             ],
             [
              0.5555555555555556,
              "#d8576b"
             ],
             [
              0.6666666666666666,
              "#ed7953"
             ],
             [
              0.7777777777777778,
              "#fb9f3a"
             ],
             [
              0.8888888888888888,
              "#fdca26"
             ],
             [
              1,
              "#f0f921"
             ]
            ],
            "type": "histogram2d"
           }
          ],
          "histogram2dcontour": [
           {
            "colorbar": {
             "outlinewidth": 0,
             "ticks": ""
            },
            "colorscale": [
             [
              0,
              "#0d0887"
             ],
             [
              0.1111111111111111,
              "#46039f"
             ],
             [
              0.2222222222222222,
              "#7201a8"
             ],
             [
              0.3333333333333333,
              "#9c179e"
             ],
             [
              0.4444444444444444,
              "#bd3786"
             ],
             [
              0.5555555555555556,
              "#d8576b"
             ],
             [
              0.6666666666666666,
              "#ed7953"
             ],
             [
              0.7777777777777778,
              "#fb9f3a"
             ],
             [
              0.8888888888888888,
              "#fdca26"
             ],
             [
              1,
              "#f0f921"
             ]
            ],
            "type": "histogram2dcontour"
           }
          ],
          "mesh3d": [
           {
            "colorbar": {
             "outlinewidth": 0,
             "ticks": ""
            },
            "type": "mesh3d"
           }
          ],
          "parcoords": [
           {
            "line": {
             "colorbar": {
              "outlinewidth": 0,
              "ticks": ""
             }
            },
            "type": "parcoords"
           }
          ],
          "pie": [
           {
            "automargin": true,
            "type": "pie"
           }
          ],
          "scatter": [
           {
            "fillpattern": {
             "fillmode": "overlay",
             "size": 10,
             "solidity": 0.2
            },
            "type": "scatter"
           }
          ],
          "scatter3d": [
           {
            "line": {
             "colorbar": {
              "outlinewidth": 0,
              "ticks": ""
             }
            },
            "marker": {
             "colorbar": {
              "outlinewidth": 0,
              "ticks": ""
             }
            },
            "type": "scatter3d"
           }
          ],
          "scattercarpet": [
           {
            "marker": {
             "colorbar": {
              "outlinewidth": 0,
              "ticks": ""
             }
            },
            "type": "scattercarpet"
           }
          ],
          "scattergeo": [
           {
            "marker": {
             "colorbar": {
              "outlinewidth": 0,
              "ticks": ""
             }
            },
            "type": "scattergeo"
           }
          ],
          "scattergl": [
           {
            "marker": {
             "colorbar": {
              "outlinewidth": 0,
              "ticks": ""
             }
            },
            "type": "scattergl"
           }
          ],
          "scattermapbox": [
           {
            "marker": {
             "colorbar": {
              "outlinewidth": 0,
              "ticks": ""
             }
            },
            "type": "scattermapbox"
           }
          ],
          "scatterpolar": [
           {
            "marker": {
             "colorbar": {
              "outlinewidth": 0,
              "ticks": ""
             }
            },
            "type": "scatterpolar"
           }
          ],
          "scatterpolargl": [
           {
            "marker": {
             "colorbar": {
              "outlinewidth": 0,
              "ticks": ""
             }
            },
            "type": "scatterpolargl"
           }
          ],
          "scatterternary": [
           {
            "marker": {
             "colorbar": {
              "outlinewidth": 0,
              "ticks": ""
             }
            },
            "type": "scatterternary"
           }
          ],
          "surface": [
           {
            "colorbar": {
             "outlinewidth": 0,
             "ticks": ""
            },
            "colorscale": [
             [
              0,
              "#0d0887"
             ],
             [
              0.1111111111111111,
              "#46039f"
             ],
             [
              0.2222222222222222,
              "#7201a8"
             ],
             [
              0.3333333333333333,
              "#9c179e"
             ],
             [
              0.4444444444444444,
              "#bd3786"
             ],
             [
              0.5555555555555556,
              "#d8576b"
             ],
             [
              0.6666666666666666,
              "#ed7953"
             ],
             [
              0.7777777777777778,
              "#fb9f3a"
             ],
             [
              0.8888888888888888,
              "#fdca26"
             ],
             [
              1,
              "#f0f921"
             ]
            ],
            "type": "surface"
           }
          ],
          "table": [
           {
            "cells": {
             "fill": {
              "color": "#EBF0F8"
             },
             "line": {
              "color": "white"
             }
            },
            "header": {
             "fill": {
              "color": "#C8D4E3"
             },
             "line": {
              "color": "white"
             }
            },
            "type": "table"
           }
          ]
         },
         "layout": {
          "annotationdefaults": {
           "arrowcolor": "#2a3f5f",
           "arrowhead": 0,
           "arrowwidth": 1
          },
          "autotypenumbers": "strict",
          "coloraxis": {
           "colorbar": {
            "outlinewidth": 0,
            "ticks": ""
           }
          },
          "colorscale": {
           "diverging": [
            [
             0,
             "#8e0152"
            ],
            [
             0.1,
             "#c51b7d"
            ],
            [
             0.2,
             "#de77ae"
            ],
            [
             0.3,
             "#f1b6da"
            ],
            [
             0.4,
             "#fde0ef"
            ],
            [
             0.5,
             "#f7f7f7"
            ],
            [
             0.6,
             "#e6f5d0"
            ],
            [
             0.7,
             "#b8e186"
            ],
            [
             0.8,
             "#7fbc41"
            ],
            [
             0.9,
             "#4d9221"
            ],
            [
             1,
             "#276419"
            ]
           ],
           "sequential": [
            [
             0,
             "#0d0887"
            ],
            [
             0.1111111111111111,
             "#46039f"
            ],
            [
             0.2222222222222222,
             "#7201a8"
            ],
            [
             0.3333333333333333,
             "#9c179e"
            ],
            [
             0.4444444444444444,
             "#bd3786"
            ],
            [
             0.5555555555555556,
             "#d8576b"
            ],
            [
             0.6666666666666666,
             "#ed7953"
            ],
            [
             0.7777777777777778,
             "#fb9f3a"
            ],
            [
             0.8888888888888888,
             "#fdca26"
            ],
            [
             1,
             "#f0f921"
            ]
           ],
           "sequentialminus": [
            [
             0,
             "#0d0887"
            ],
            [
             0.1111111111111111,
             "#46039f"
            ],
            [
             0.2222222222222222,
             "#7201a8"
            ],
            [
             0.3333333333333333,
             "#9c179e"
            ],
            [
             0.4444444444444444,
             "#bd3786"
            ],
            [
             0.5555555555555556,
             "#d8576b"
            ],
            [
             0.6666666666666666,
             "#ed7953"
            ],
            [
             0.7777777777777778,
             "#fb9f3a"
            ],
            [
             0.8888888888888888,
             "#fdca26"
            ],
            [
             1,
             "#f0f921"
            ]
           ]
          },
          "colorway": [
           "#636efa",
           "#EF553B",
           "#00cc96",
           "#ab63fa",
           "#FFA15A",
           "#19d3f3",
           "#FF6692",
           "#B6E880",
           "#FF97FF",
           "#FECB52"
          ],
          "font": {
           "color": "#2a3f5f"
          },
          "geo": {
           "bgcolor": "white",
           "lakecolor": "white",
           "landcolor": "#E5ECF6",
           "showlakes": true,
           "showland": true,
           "subunitcolor": "white"
          },
          "hoverlabel": {
           "align": "left"
          },
          "hovermode": "closest",
          "mapbox": {
           "style": "light"
          },
          "paper_bgcolor": "white",
          "plot_bgcolor": "#E5ECF6",
          "polar": {
           "angularaxis": {
            "gridcolor": "white",
            "linecolor": "white",
            "ticks": ""
           },
           "bgcolor": "#E5ECF6",
           "radialaxis": {
            "gridcolor": "white",
            "linecolor": "white",
            "ticks": ""
           }
          },
          "scene": {
           "xaxis": {
            "backgroundcolor": "#E5ECF6",
            "gridcolor": "white",
            "gridwidth": 2,
            "linecolor": "white",
            "showbackground": true,
            "ticks": "",
            "zerolinecolor": "white"
           },
           "yaxis": {
            "backgroundcolor": "#E5ECF6",
            "gridcolor": "white",
            "gridwidth": 2,
            "linecolor": "white",
            "showbackground": true,
            "ticks": "",
            "zerolinecolor": "white"
           },
           "zaxis": {
            "backgroundcolor": "#E5ECF6",
            "gridcolor": "white",
            "gridwidth": 2,
            "linecolor": "white",
            "showbackground": true,
            "ticks": "",
            "zerolinecolor": "white"
           }
          },
          "shapedefaults": {
           "line": {
            "color": "#2a3f5f"
           }
          },
          "ternary": {
           "aaxis": {
            "gridcolor": "white",
            "linecolor": "white",
            "ticks": ""
           },
           "baxis": {
            "gridcolor": "white",
            "linecolor": "white",
            "ticks": ""
           },
           "bgcolor": "#E5ECF6",
           "caxis": {
            "gridcolor": "white",
            "linecolor": "white",
            "ticks": ""
           }
          },
          "title": {
           "x": 0.05
          },
          "xaxis": {
           "automargin": true,
           "gridcolor": "white",
           "linecolor": "white",
           "ticks": "",
           "title": {
            "standoff": 15
           },
           "zerolinecolor": "white",
           "zerolinewidth": 2
          },
          "yaxis": {
           "automargin": true,
           "gridcolor": "white",
           "linecolor": "white",
           "ticks": "",
           "title": {
            "standoff": 15
           },
           "zerolinecolor": "white",
           "zerolinewidth": 2
          }
         }
        }
       }
      }
     },
     "metadata": {},
     "output_type": "display_data"
    }
   ],
   "source": [
    "import plotly.express as px\n",
    "fig = px.scatter_geo(test_df, locations=\"iso_alpha\", color=\"continent\",\n",
    "                     hover_name=\"country\", size = 'Wine_count', projection=\"natural earth\")\n",
    "fig.show()"
   ]
  },
  {
   "cell_type": "code",
   "execution_count": null,
   "metadata": {},
   "outputs": [],
   "source": []
  }
 ],
 "metadata": {
  "kernelspec": {
   "display_name": "base",
   "language": "python",
   "name": "python3"
  },
  "language_info": {
   "codemirror_mode": {
    "name": "ipython",
    "version": 3
   },
   "file_extension": ".py",
   "mimetype": "text/x-python",
   "name": "python",
   "nbconvert_exporter": "python",
   "pygments_lexer": "ipython3",
   "version": "3.10.8"
  },
  "orig_nbformat": 4,
  "vscode": {
   "interpreter": {
    "hash": "697621b2a3c9607bbd42ddf02a91797c8d8c6033f1e01fff55e45e44e5adbe6a"
   }
  }
 },
 "nbformat": 4,
 "nbformat_minor": 2
}
